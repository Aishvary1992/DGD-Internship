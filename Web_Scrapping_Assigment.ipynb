{
  "nbformat": 4,
  "nbformat_minor": 0,
  "metadata": {
    "colab": {
      "provenance": []
    },
    "kernelspec": {
      "name": "python3",
      "display_name": "Python 3"
    },
    "language_info": {
      "name": "python"
    }
  },
  "cells": [
    {
      "cell_type": "code",
      "execution_count": 1,
      "metadata": {
        "id": "u32_e3w5dRFd"
      },
      "outputs": [],
      "source": [
        "#importing libraries required for web scrapping\n",
        "\n",
        "import requests\n",
        "from bs4 import BeautifulSoup\n",
        "import pandas as pd"
      ]
    },
    {
      "cell_type": "code",
      "source": [
        "#url to scrape\n",
        "\n",
        "url = \"http://quotes.toscrape.com/page/1/\""
      ],
      "metadata": {
        "id": "AMdDmNvcdw-3"
      },
      "execution_count": 2,
      "outputs": []
    },
    {
      "cell_type": "code",
      "source": [
        "response = requests.get(url)"
      ],
      "metadata": {
        "id": "d2PFDJEXd8fu"
      },
      "execution_count": 3,
      "outputs": []
    },
    {
      "cell_type": "code",
      "source": [
        "response = response.content"
      ],
      "metadata": {
        "id": "4Oc_YEOAd-V-"
      },
      "execution_count": 4,
      "outputs": []
    },
    {
      "cell_type": "code",
      "source": [
        "soup = BeautifulSoup(response,'html.parser')"
      ],
      "metadata": {
        "id": "JsKHKWHueB7d"
      },
      "execution_count": 5,
      "outputs": []
    },
    {
      "cell_type": "code",
      "source": [
        "div = soup.find('div')"
      ],
      "metadata": {
        "id": "k3rVjN9FePF4"
      },
      "execution_count": 7,
      "outputs": []
    },
    {
      "cell_type": "code",
      "source": [
        "contents = div.find_all('div',class_ = 'quote')\n",
        "\n",
        "for content in contents:\n",
        "    quote = content.find('span').text\n",
        "    print(quote)"
      ],
      "metadata": {
        "colab": {
          "base_uri": "https://localhost:8080/"
        },
        "id": "2FcWNUuOkBl2",
        "outputId": "76249cb3-768e-4ae5-bcdb-430972fc4abe"
      },
      "execution_count": 9,
      "outputs": [
        {
          "output_type": "stream",
          "name": "stdout",
          "text": [
            "“The world as we have created it is a process of our thinking. It cannot be changed without changing our thinking.”\n",
            "“It is our choices, Harry, that show what we truly are, far more than our abilities.”\n",
            "“There are only two ways to live your life. One is as though nothing is a miracle. The other is as though everything is a miracle.”\n",
            "“The person, be it gentleman or lady, who has not pleasure in a good novel, must be intolerably stupid.”\n",
            "“Imperfection is beauty, madness is genius and it's better to be absolutely ridiculous than absolutely boring.”\n",
            "“Try not to become a man of success. Rather become a man of value.”\n",
            "“It is better to be hated for what you are than to be loved for what you are not.”\n",
            "“I have not failed. I've just found 10,000 ways that won't work.”\n",
            "“A woman is like a tea bag; you never know how strong it is until it's in hot water.”\n",
            "“A day without sunshine is like, you know, night.”\n"
          ]
        }
      ]
    },
    {
      "cell_type": "code",
      "source": [
        "for content in contents:\n",
        "    author_name = content.find('small').text\n",
        "    print(author_name)"
      ],
      "metadata": {
        "colab": {
          "base_uri": "https://localhost:8080/"
        },
        "id": "MAbLVE92mFa1",
        "outputId": "fdba8fe1-cd03-4d40-e338-0c10c7f5795c"
      },
      "execution_count": 11,
      "outputs": [
        {
          "output_type": "stream",
          "name": "stdout",
          "text": [
            "Albert Einstein\n",
            "J.K. Rowling\n",
            "Albert Einstein\n",
            "Jane Austen\n",
            "Marilyn Monroe\n",
            "Albert Einstein\n",
            "André Gide\n",
            "Thomas A. Edison\n",
            "Eleanor Roosevelt\n",
            "Steve Martin\n"
          ]
        }
      ]
    },
    {
      "cell_type": "code",
      "source": [
        "for content in contents:\n",
        "    meta = content.find('meta')\n",
        "    tags = meta.attrs['content']\n",
        "    print(tags)"
      ],
      "metadata": {
        "colab": {
          "base_uri": "https://localhost:8080/"
        },
        "id": "LZuJk_uFpEVT",
        "outputId": "001ac745-6ae2-4532-b70a-68ae7ad5ed59"
      },
      "execution_count": 12,
      "outputs": [
        {
          "output_type": "stream",
          "name": "stdout",
          "text": [
            "change,deep-thoughts,thinking,world\n",
            "abilities,choices\n",
            "inspirational,life,live,miracle,miracles\n",
            "aliteracy,books,classic,humor\n",
            "be-yourself,inspirational\n",
            "adulthood,success,value\n",
            "life,love\n",
            "edison,failure,inspirational,paraphrased\n",
            "misattributed-eleanor-roosevelt\n",
            "humor,obvious,simile\n"
          ]
        }
      ]
    },
    {
      "cell_type": "code",
      "source": [
        "contents = div.find_all('div',class_ = 'quote')\n",
        "\n",
        "Content = []\n",
        "\n",
        "for content in contents:\n",
        "    author_name = content.find('small').text\n",
        "    quote = content.find('span').text\n",
        "    meta = content.find('meta')\n",
        "    tags = meta.attrs['content']\n",
        "    Content.append([author_name,quote,tags])"
      ],
      "metadata": {
        "id": "XjI3-fvcpT7U"
      },
      "execution_count": 13,
      "outputs": []
    },
    {
      "cell_type": "code",
      "source": [
        "Content = []\n",
        "\n",
        "for i in range(1,10):\n",
        "  url = f\"http://quotes.toscrape.com/page/{i}/\"\n",
        "  response = requests.get(url)\n",
        "  response = response.content\n",
        "  soup = BeautifulSoup(response,'html.parser')\n",
        "  div = soup.find('div')\n",
        "  contents = div.find_all('div',class_ = 'quote')\n",
        "  for content in contents:\n",
        "    author_name = content.find('small').text\n",
        "    quote = content.find('span').text\n",
        "    meta = content.find('meta')\n",
        "    tags = meta.attrs['content']\n",
        "    Content.append([author_name,quote,tags])\n"
      ],
      "metadata": {
        "id": "gYQlw6i9qIcR"
      },
      "execution_count": 14,
      "outputs": []
    },
    {
      "cell_type": "code",
      "source": [
        "df = pd.DataFrame(Content,columns = ['Author Name','Quote','Tags'])"
      ],
      "metadata": {
        "id": "N77p-0hnq203"
      },
      "execution_count": 15,
      "outputs": []
    },
    {
      "cell_type": "code",
      "source": [
        "df.head(20)"
      ],
      "metadata": {
        "colab": {
          "base_uri": "https://localhost:8080/",
          "height": 677
        },
        "id": "Ik2mbw6Lq-bf",
        "outputId": "696f1902-fd1c-4a58-e684-7cb3911c476b"
      },
      "execution_count": 16,
      "outputs": [
        {
          "output_type": "execute_result",
          "data": {
            "text/plain": [
              "            Author Name                                              Quote  \\\n",
              "0       Albert Einstein  “The world as we have created it is a process ...   \n",
              "1          J.K. Rowling  “It is our choices, Harry, that show what we t...   \n",
              "2       Albert Einstein  “There are only two ways to live your life. On...   \n",
              "3           Jane Austen  “The person, be it gentleman or lady, who has ...   \n",
              "4        Marilyn Monroe  “Imperfection is beauty, madness is genius and...   \n",
              "5       Albert Einstein  “Try not to become a man of success. Rather be...   \n",
              "6            André Gide  “It is better to be hated for what you are tha...   \n",
              "7      Thomas A. Edison  “I have not failed. I've just found 10,000 way...   \n",
              "8     Eleanor Roosevelt  “A woman is like a tea bag; you never know how...   \n",
              "9          Steve Martin  “A day without sunshine is like, you know, nig...   \n",
              "10       Marilyn Monroe  “This life is what you make it. No matter what...   \n",
              "11         J.K. Rowling  “It takes a great deal of bravery to stand up ...   \n",
              "12      Albert Einstein  “If you can't explain it to a six year old, yo...   \n",
              "13           Bob Marley  “You may not be her first, her last, or her on...   \n",
              "14            Dr. Seuss  “I like nonsense, it wakes up the brain cells....   \n",
              "15        Douglas Adams  “I may not have gone where I intended to go, b...   \n",
              "16          Elie Wiesel  “The opposite of love is not hate, it's indiff...   \n",
              "17  Friedrich Nietzsche  “It is not a lack of love, but a lack of frien...   \n",
              "18           Mark Twain  “Good friends, good books, and a sleepy consci...   \n",
              "19       Allen Saunders  “Life is what happens to us while we are makin...   \n",
              "\n",
              "                                                 Tags  \n",
              "0                 change,deep-thoughts,thinking,world  \n",
              "1                                   abilities,choices  \n",
              "2            inspirational,life,live,miracle,miracles  \n",
              "3                       aliteracy,books,classic,humor  \n",
              "4                           be-yourself,inspirational  \n",
              "5                             adulthood,success,value  \n",
              "6                                           life,love  \n",
              "7            edison,failure,inspirational,paraphrased  \n",
              "8                     misattributed-eleanor-roosevelt  \n",
              "9                                humor,obvious,simile  \n",
              "10  friends,heartbreak,inspirational,life,love,sis...  \n",
              "11                                    courage,friends  \n",
              "12                              simplicity,understand  \n",
              "13                                               love  \n",
              "14                                            fantasy  \n",
              "15                                    life,navigation  \n",
              "16  activism,apathy,hate,indifference,inspirationa...  \n",
              "17  friendship,lack-of-friendship,lack-of-love,lov...  \n",
              "18          books,contentment,friends,friendship,life  \n",
              "19  fate,life,misattributed-john-lennon,planning,p...  "
            ],
            "text/html": [
              "\n",
              "  <div id=\"df-5a1e0086-86ed-4031-bf34-457bb0d6293b\">\n",
              "    <div class=\"colab-df-container\">\n",
              "      <div>\n",
              "<style scoped>\n",
              "    .dataframe tbody tr th:only-of-type {\n",
              "        vertical-align: middle;\n",
              "    }\n",
              "\n",
              "    .dataframe tbody tr th {\n",
              "        vertical-align: top;\n",
              "    }\n",
              "\n",
              "    .dataframe thead th {\n",
              "        text-align: right;\n",
              "    }\n",
              "</style>\n",
              "<table border=\"1\" class=\"dataframe\">\n",
              "  <thead>\n",
              "    <tr style=\"text-align: right;\">\n",
              "      <th></th>\n",
              "      <th>Author Name</th>\n",
              "      <th>Quote</th>\n",
              "      <th>Tags</th>\n",
              "    </tr>\n",
              "  </thead>\n",
              "  <tbody>\n",
              "    <tr>\n",
              "      <th>0</th>\n",
              "      <td>Albert Einstein</td>\n",
              "      <td>“The world as we have created it is a process ...</td>\n",
              "      <td>change,deep-thoughts,thinking,world</td>\n",
              "    </tr>\n",
              "    <tr>\n",
              "      <th>1</th>\n",
              "      <td>J.K. Rowling</td>\n",
              "      <td>“It is our choices, Harry, that show what we t...</td>\n",
              "      <td>abilities,choices</td>\n",
              "    </tr>\n",
              "    <tr>\n",
              "      <th>2</th>\n",
              "      <td>Albert Einstein</td>\n",
              "      <td>“There are only two ways to live your life. On...</td>\n",
              "      <td>inspirational,life,live,miracle,miracles</td>\n",
              "    </tr>\n",
              "    <tr>\n",
              "      <th>3</th>\n",
              "      <td>Jane Austen</td>\n",
              "      <td>“The person, be it gentleman or lady, who has ...</td>\n",
              "      <td>aliteracy,books,classic,humor</td>\n",
              "    </tr>\n",
              "    <tr>\n",
              "      <th>4</th>\n",
              "      <td>Marilyn Monroe</td>\n",
              "      <td>“Imperfection is beauty, madness is genius and...</td>\n",
              "      <td>be-yourself,inspirational</td>\n",
              "    </tr>\n",
              "    <tr>\n",
              "      <th>5</th>\n",
              "      <td>Albert Einstein</td>\n",
              "      <td>“Try not to become a man of success. Rather be...</td>\n",
              "      <td>adulthood,success,value</td>\n",
              "    </tr>\n",
              "    <tr>\n",
              "      <th>6</th>\n",
              "      <td>André Gide</td>\n",
              "      <td>“It is better to be hated for what you are tha...</td>\n",
              "      <td>life,love</td>\n",
              "    </tr>\n",
              "    <tr>\n",
              "      <th>7</th>\n",
              "      <td>Thomas A. Edison</td>\n",
              "      <td>“I have not failed. I've just found 10,000 way...</td>\n",
              "      <td>edison,failure,inspirational,paraphrased</td>\n",
              "    </tr>\n",
              "    <tr>\n",
              "      <th>8</th>\n",
              "      <td>Eleanor Roosevelt</td>\n",
              "      <td>“A woman is like a tea bag; you never know how...</td>\n",
              "      <td>misattributed-eleanor-roosevelt</td>\n",
              "    </tr>\n",
              "    <tr>\n",
              "      <th>9</th>\n",
              "      <td>Steve Martin</td>\n",
              "      <td>“A day without sunshine is like, you know, nig...</td>\n",
              "      <td>humor,obvious,simile</td>\n",
              "    </tr>\n",
              "    <tr>\n",
              "      <th>10</th>\n",
              "      <td>Marilyn Monroe</td>\n",
              "      <td>“This life is what you make it. No matter what...</td>\n",
              "      <td>friends,heartbreak,inspirational,life,love,sis...</td>\n",
              "    </tr>\n",
              "    <tr>\n",
              "      <th>11</th>\n",
              "      <td>J.K. Rowling</td>\n",
              "      <td>“It takes a great deal of bravery to stand up ...</td>\n",
              "      <td>courage,friends</td>\n",
              "    </tr>\n",
              "    <tr>\n",
              "      <th>12</th>\n",
              "      <td>Albert Einstein</td>\n",
              "      <td>“If you can't explain it to a six year old, yo...</td>\n",
              "      <td>simplicity,understand</td>\n",
              "    </tr>\n",
              "    <tr>\n",
              "      <th>13</th>\n",
              "      <td>Bob Marley</td>\n",
              "      <td>“You may not be her first, her last, or her on...</td>\n",
              "      <td>love</td>\n",
              "    </tr>\n",
              "    <tr>\n",
              "      <th>14</th>\n",
              "      <td>Dr. Seuss</td>\n",
              "      <td>“I like nonsense, it wakes up the brain cells....</td>\n",
              "      <td>fantasy</td>\n",
              "    </tr>\n",
              "    <tr>\n",
              "      <th>15</th>\n",
              "      <td>Douglas Adams</td>\n",
              "      <td>“I may not have gone where I intended to go, b...</td>\n",
              "      <td>life,navigation</td>\n",
              "    </tr>\n",
              "    <tr>\n",
              "      <th>16</th>\n",
              "      <td>Elie Wiesel</td>\n",
              "      <td>“The opposite of love is not hate, it's indiff...</td>\n",
              "      <td>activism,apathy,hate,indifference,inspirationa...</td>\n",
              "    </tr>\n",
              "    <tr>\n",
              "      <th>17</th>\n",
              "      <td>Friedrich Nietzsche</td>\n",
              "      <td>“It is not a lack of love, but a lack of frien...</td>\n",
              "      <td>friendship,lack-of-friendship,lack-of-love,lov...</td>\n",
              "    </tr>\n",
              "    <tr>\n",
              "      <th>18</th>\n",
              "      <td>Mark Twain</td>\n",
              "      <td>“Good friends, good books, and a sleepy consci...</td>\n",
              "      <td>books,contentment,friends,friendship,life</td>\n",
              "    </tr>\n",
              "    <tr>\n",
              "      <th>19</th>\n",
              "      <td>Allen Saunders</td>\n",
              "      <td>“Life is what happens to us while we are makin...</td>\n",
              "      <td>fate,life,misattributed-john-lennon,planning,p...</td>\n",
              "    </tr>\n",
              "  </tbody>\n",
              "</table>\n",
              "</div>\n",
              "      <button class=\"colab-df-convert\" onclick=\"convertToInteractive('df-5a1e0086-86ed-4031-bf34-457bb0d6293b')\"\n",
              "              title=\"Convert this dataframe to an interactive table.\"\n",
              "              style=\"display:none;\">\n",
              "        \n",
              "  <svg xmlns=\"http://www.w3.org/2000/svg\" height=\"24px\"viewBox=\"0 0 24 24\"\n",
              "       width=\"24px\">\n",
              "    <path d=\"M0 0h24v24H0V0z\" fill=\"none\"/>\n",
              "    <path d=\"M18.56 5.44l.94 2.06.94-2.06 2.06-.94-2.06-.94-.94-2.06-.94 2.06-2.06.94zm-11 1L8.5 8.5l.94-2.06 2.06-.94-2.06-.94L8.5 2.5l-.94 2.06-2.06.94zm10 10l.94 2.06.94-2.06 2.06-.94-2.06-.94-.94-2.06-.94 2.06-2.06.94z\"/><path d=\"M17.41 7.96l-1.37-1.37c-.4-.4-.92-.59-1.43-.59-.52 0-1.04.2-1.43.59L10.3 9.45l-7.72 7.72c-.78.78-.78 2.05 0 2.83L4 21.41c.39.39.9.59 1.41.59.51 0 1.02-.2 1.41-.59l7.78-7.78 2.81-2.81c.8-.78.8-2.07 0-2.86zM5.41 20L4 18.59l7.72-7.72 1.47 1.35L5.41 20z\"/>\n",
              "  </svg>\n",
              "      </button>\n",
              "      \n",
              "  <style>\n",
              "    .colab-df-container {\n",
              "      display:flex;\n",
              "      flex-wrap:wrap;\n",
              "      gap: 12px;\n",
              "    }\n",
              "\n",
              "    .colab-df-convert {\n",
              "      background-color: #E8F0FE;\n",
              "      border: none;\n",
              "      border-radius: 50%;\n",
              "      cursor: pointer;\n",
              "      display: none;\n",
              "      fill: #1967D2;\n",
              "      height: 32px;\n",
              "      padding: 0 0 0 0;\n",
              "      width: 32px;\n",
              "    }\n",
              "\n",
              "    .colab-df-convert:hover {\n",
              "      background-color: #E2EBFA;\n",
              "      box-shadow: 0px 1px 2px rgba(60, 64, 67, 0.3), 0px 1px 3px 1px rgba(60, 64, 67, 0.15);\n",
              "      fill: #174EA6;\n",
              "    }\n",
              "\n",
              "    [theme=dark] .colab-df-convert {\n",
              "      background-color: #3B4455;\n",
              "      fill: #D2E3FC;\n",
              "    }\n",
              "\n",
              "    [theme=dark] .colab-df-convert:hover {\n",
              "      background-color: #434B5C;\n",
              "      box-shadow: 0px 1px 3px 1px rgba(0, 0, 0, 0.15);\n",
              "      filter: drop-shadow(0px 1px 2px rgba(0, 0, 0, 0.3));\n",
              "      fill: #FFFFFF;\n",
              "    }\n",
              "  </style>\n",
              "\n",
              "      <script>\n",
              "        const buttonEl =\n",
              "          document.querySelector('#df-5a1e0086-86ed-4031-bf34-457bb0d6293b button.colab-df-convert');\n",
              "        buttonEl.style.display =\n",
              "          google.colab.kernel.accessAllowed ? 'block' : 'none';\n",
              "\n",
              "        async function convertToInteractive(key) {\n",
              "          const element = document.querySelector('#df-5a1e0086-86ed-4031-bf34-457bb0d6293b');\n",
              "          const dataTable =\n",
              "            await google.colab.kernel.invokeFunction('convertToInteractive',\n",
              "                                                     [key], {});\n",
              "          if (!dataTable) return;\n",
              "\n",
              "          const docLinkHtml = 'Like what you see? Visit the ' +\n",
              "            '<a target=\"_blank\" href=https://colab.research.google.com/notebooks/data_table.ipynb>data table notebook</a>'\n",
              "            + ' to learn more about interactive tables.';\n",
              "          element.innerHTML = '';\n",
              "          dataTable['output_type'] = 'display_data';\n",
              "          await google.colab.output.renderOutput(dataTable, element);\n",
              "          const docLink = document.createElement('div');\n",
              "          docLink.innerHTML = docLinkHtml;\n",
              "          element.appendChild(docLink);\n",
              "        }\n",
              "      </script>\n",
              "    </div>\n",
              "  </div>\n",
              "  "
            ]
          },
          "metadata": {},
          "execution_count": 16
        }
      ]
    },
    {
      "cell_type": "code",
      "source": [
        "df.to_csv('Quotes_Scrapped.csv')"
      ],
      "metadata": {
        "id": "XlpeSoCMrHkZ"
      },
      "execution_count": 17,
      "outputs": []
    }
  ]
}